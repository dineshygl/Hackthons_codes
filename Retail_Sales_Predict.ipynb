{
  "nbformat": 4,
  "nbformat_minor": 0,
  "metadata": {
    "colab": {
      "name": "Retail_Sales_Predict_Team16.ipynb",
      "version": "0.3.2",
      "provenance": [],
      "collapsed_sections": []
    },
    "kernelspec": {
      "name": "python3",
      "display_name": "Python 3"
    }
  },
  "cells": [
    {
      "cell_type": "code",
      "metadata": {
        "id": "rI8T3tZDEaxM",
        "colab_type": "code",
        "colab": {}
      },
      "source": [
        "import pandas as pd\n",
        "import numpy as np\n",
        "import matplotlib.pyplot as plt\n",
        "% matplotlib inline\n",
        "import seaborn as sns\n",
        "sns.set(style=\"whitegrid\", color_codes=True)\n",
        "sns.set(font_scale=1)\n",
        "from sklearn import preprocessing\n",
        "from sklearn.preprocessing import Normalizer\n",
        "from sklearn.linear_model import LinearRegression \n",
        "from sklearn.metrics import mean_squared_error\n",
        "from sklearn.model_selection import train_test_split\n",
        "from sklearn.preprocessing import PolynomialFeatures\n",
        "from sklearn import linear_model\n",
        "from sklearn.pipeline import Pipeline\n",
        "from sklearn.svm import SVR\n",
        "from keras.models import Sequential\n",
        "from keras.layers import Dense\n",
        "from keras.layers import LSTM"
      ],
      "execution_count": 0,
      "outputs": []
    },
    {
      "cell_type": "code",
      "metadata": {
        "id": "-6y7tpyvEyBr",
        "colab_type": "code",
        "colab": {}
      },
      "source": [
        "df=pd.read_csv('Train_Kaggle.csv')\n",
        "df.head()"
      ],
      "execution_count": 0,
      "outputs": []
    },
    {
      "cell_type": "code",
      "metadata": {
        "id": "ImNsw342E1u6",
        "colab_type": "code",
        "colab": {}
      },
      "source": [
        "for each in df[df['Sales(In ThousandDollars)'].isnull()].index.values.tolist():\n",
        "    df.loc[each,'Sales(In ThousandDollars)']=0.5*(df.loc[each-3,'Sales(In ThousandDollars)']+df.loc[each+3,'Sales(In ThousandDollars)'])\n",
        "df.head()"
      ],
      "execution_count": 0,
      "outputs": []
    },
    {
      "cell_type": "code",
      "metadata": {
        "id": "YizixpoqE4pc",
        "colab_type": "code",
        "colab": {}
      },
      "source": [
        "df_1=df[df['ProductCategory']=='WomenClothing'].reset_index()\n",
        "df_2=df[df['ProductCategory']=='MenClothing'].reset_index()\n",
        "df_3=df[df['ProductCategory']=='OtherClothing'].reset_index()"
      ],
      "execution_count": 0,
      "outputs": []
    },
    {
      "cell_type": "code",
      "metadata": {
        "id": "fbK-LMVFE69r",
        "colab_type": "code",
        "colab": {}
      },
      "source": [
        "macro_d=pd.ExcelFile('MacroEconomicData.xlsx')\n",
        "macro_df = macro_d.parse(\"Sheet1\")\n",
        "\n",
        "#macro_df=macro_df\n",
        "macro_df_1=pd.concat([macro_df,df_1[['Year','Month','Sales(In ThousandDollars)']]],axis=1)\n",
        "macro_df_2=pd.concat([macro_df,df_2[['Year','Month','Sales(In ThousandDollars)']]],axis=1)\n",
        "macro_df_3=pd.concat([macro_df,df_3[['Year','Month','Sales(In ThousandDollars)']]],axis=1)"
      ],
      "execution_count": 0,
      "outputs": []
    },
    {
      "cell_type": "code",
      "metadata": {
        "id": "yVTTFyn1E_Qj",
        "colab_type": "code",
        "colab": {}
      },
      "source": [
        "macro_df_1=macro_df_1.drop(['Monthly Nominal GDP Index (inMillion$)','Year-Month','PartyInPower','AdvertisingExpenses (in Thousand Dollars)'],axis=1)[:72]\n",
        "macro_df_2=macro_df_2.drop(['Monthly Nominal GDP Index (inMillion$)','Year-Month','PartyInPower','AdvertisingExpenses (in Thousand Dollars)'],axis=1)[:72]\n",
        "macro_df_3=macro_df_3.drop(['Monthly Nominal GDP Index (inMillion$)','Year-Month','PartyInPower','AdvertisingExpenses (in Thousand Dollars)'],axis=1)[:72]\n",
        "macro_rest=macro_rest.drop(['Monthly Nominal GDP Index (inMillion$)','PartyInPower','AdvertisingExpenses (in Thousand Dollars)'],axis=1)"
      ],
      "execution_count": 0,
      "outputs": []
    },
    {
      "cell_type": "code",
      "metadata": {
        "id": "NnqlEh9dFGJl",
        "colab_type": "code",
        "colab": {}
      },
      "source": [
        "\n",
        "# Remove non important features.\n",
        "macro_df_1=macro_df_1.drop(['Cotton Monthly Price - US cents per Pound(lbs)','Production (in  480-lb netweright in million bales)','Mill use  (in  480-lb netweright in million bales)'],axis=1)\n",
        "macro_df_2=macro_df_2.drop(['Cotton Monthly Price - US cents per Pound(lbs)','Production (in  480-lb netweright in million bales)','Mill use  (in  480-lb netweright in million bales)'],axis=1)\n",
        "macro_df_3=macro_df_3.drop(['Cotton Monthly Price - US cents per Pound(lbs)','Production (in  480-lb netweright in million bales)','Mill use  (in  480-lb netweright in million bales)'],axis=1)\n",
        "macro_rest=macro_rest.drop(['Cotton Monthly Price - US cents per Pound(lbs)','Production (in  480-lb netweright in million bales)','Mill use  (in  480-lb netweright in million bales)'],axis=1)"
      ],
      "execution_count": 0,
      "outputs": []
    },
    {
      "cell_type": "code",
      "metadata": {
        "id": "Ofx8m7_9FIbG",
        "colab_type": "code",
        "colab": {}
      },
      "source": [
        "# Heat Map macro df_1\n",
        "corrMatrix=macro_df_1[list(macro_df_1)].corr()"
      ],
      "execution_count": 0,
      "outputs": []
    },
    {
      "cell_type": "code",
      "metadata": {
        "id": "sMiQiHNbFNX0",
        "colab_type": "code",
        "colab": {}
      },
      "source": [
        "corrMatrix=macro_df_2[list(macro_df_2)].corr()"
      ],
      "execution_count": 0,
      "outputs": []
    },
    {
      "cell_type": "code",
      "metadata": {
        "id": "UqhROmVgFPRz",
        "colab_type": "code",
        "colab": {}
      },
      "source": [
        "\n",
        "corrMatrix=macro_df_3[list(macro_df_3)].corr()"
      ],
      "execution_count": 0,
      "outputs": []
    },
    {
      "cell_type": "code",
      "metadata": {
        "id": "ux49fTfsFTuU",
        "colab_type": "code",
        "colab": {}
      },
      "source": [
        "y_1=macro_df_1['Sales(In ThousandDollars)']\n",
        "mean_1=y_1.mean()\n",
        "std_1=y_1.std()\n",
        "y_1=preprocessing.scale(y_1)\n",
        "x_1=macro_df_1\n",
        "#x_1= preprocessing.normalize(x_1)\n",
        "x_1=preprocessing.scale(x_1)\n",
        "x_1_lstm=[]\n",
        "y_1_lstm=[]\n",
        "for i in range(x_1.shape[0]-5):\n",
        "    #print(i)\n",
        "    x_1_lstm.append(x_1[i:i+5])\n",
        "    y_1_lstm.append(y_1[i+5])\n",
        "x_1_lstm=np.array(x_1_lstm)\n",
        "y_1_lstm=np.array(y_1_lstm)"
      ],
      "execution_count": 0,
      "outputs": []
    },
    {
      "cell_type": "code",
      "metadata": {
        "id": "VaSrhAmCFWDE",
        "colab_type": "code",
        "colab": {}
      },
      "source": [
        "x_train, x_test, y_train, y_test = train_test_split(x_1_lstm,y_1_lstm,test_size=0.2)\n",
        "lr_1=Sequential()\n",
        "lr_1.add(LSTM(1,input_shape=(5,14),return_sequences=True))\n",
        "lr_1.add(LSTM(1,return_sequences=False))\n",
        "#lr_1.add(Dense(y_train.shape[0]))\n",
        "lr_1.compile(loss='mean_squared_error', optimizer='adam',metrics=['accuracy'])\n",
        "z=lr_1.fit(x_train,y_train, nb_epoch=80, batch_size=1, verbose=2,validation_data=(x_test, y_test))"
      ],
      "execution_count": 0,
      "outputs": []
    },
    {
      "cell_type": "code",
      "metadata": {
        "id": "AY8kzdRxFaSp",
        "colab_type": "code",
        "colab": {}
      },
      "source": [
        "plt.plot(z.history['loss'],c='b')\n",
        "plt.plot(z.history['val_loss'],c='g')\n",
        "#plt.label('Loss')\n",
        "plt.show()"
      ],
      "execution_count": 0,
      "outputs": []
    },
    {
      "cell_type": "code",
      "metadata": {
        "id": "qQ9sPGB1Fcq_",
        "colab_type": "code",
        "colab": {}
      },
      "source": [
        "result=(lr_1.predict(x_test))#*std_1)+mean_1"
      ],
      "execution_count": 0,
      "outputs": []
    },
    {
      "cell_type": "code",
      "metadata": {
        "id": "Mr_MPj-_FgV-",
        "colab_type": "code",
        "colab": {}
      },
      "source": [
        "plt.scatter(range(y_test.shape[0]),result,c='r')\n",
        "plt.scatter(range(y_test.shape[0]),y_test,c='y')\n",
        "plt.show"
      ],
      "execution_count": 0,
      "outputs": []
    },
    {
      "cell_type": "code",
      "metadata": {
        "id": "o5sUO8-LFjX2",
        "colab_type": "code",
        "outputId": "d2510c0e-2770-4cf0-856a-e36dd54a6be7",
        "colab": {
          "base_uri": "https://localhost:8080/",
          "height": 34
        }
      },
      "source": [
        "\n",
        "x_1_lstm[1].shape"
      ],
      "execution_count": 0,
      "outputs": [
        {
          "output_type": "execute_result",
          "data": {
            "text/plain": [
              "(5, 14)"
            ]
          },
          "metadata": {
            "tags": []
          },
          "execution_count": 114
        }
      ]
    },
    {
      "cell_type": "code",
      "metadata": {
        "id": "uUoIFCFcFmI9",
        "colab_type": "code",
        "colab": {}
      },
      "source": [
        "y_2=macro_df_2['Sales(In ThousandDollars)']\n",
        "mean_2=y_2.mean()\n",
        "std_2=y_2.std()\n",
        "y_2=preprocessing.scale(y_2)\n",
        "x_2=macro_df_2\n",
        "#x_1= preprocessing.normalize(x_1)\n",
        "x_2=preprocessing.scale(x_2)\n",
        "x_2_lstm=[]\n",
        "y_2_lstm=[]\n",
        "for i in range(x_2.shape[0]-5):\n",
        "    #print(i)\n",
        "    x_2_lstm.append(x_2[i:i+5])\n",
        "    y_2_lstm.append(y_2[i+5])\n",
        "x_2_lstm=np.array(x_2_lstm)\n",
        "y_2_lstm=np.array(y_2_lstm)"
      ],
      "execution_count": 0,
      "outputs": []
    },
    {
      "cell_type": "code",
      "metadata": {
        "id": "jjyWlQdSFrRs",
        "colab_type": "code",
        "colab": {}
      },
      "source": [
        "x_train, x_test, y_train, y_test = train_test_split(x_2_lstm,y_2_lstm,test_size=0.2)\n",
        "\n",
        "\n",
        "lr_2=Sequential()\n",
        "lr_2.add(LSTM(1,input_shape=(5, 14),return_sequences=True))\n",
        "lr_2.add(LSTM(1,return_sequences=False))\n",
        "#lr_2.add(Dense(1))\n",
        "lr_2.compile(loss='mean_squared_error', optimizer='adam',metrics=['accuracy'])\n",
        "z=lr_2.fit(x_train,y_train, nb_epoch=80, batch_size=1, verbose=2,validation_data=(x_test, y_test))"
      ],
      "execution_count": 0,
      "outputs": []
    },
    {
      "cell_type": "code",
      "metadata": {
        "id": "gaVsgrrtFuEY",
        "colab_type": "code",
        "colab": {}
      },
      "source": [
        "plt.plot(z.history['loss'])\n",
        "plt.plot(z.history['val_loss'])\n",
        "plt.show()\n",
        "result=(lr_2.predict(x_test))\n",
        "plt.scatter(range(y_test.shape[0]),result,c='r')\n",
        "plt.scatter(range(y_test.shape[0]),y_test,c='y')\n",
        "plt.show()"
      ],
      "execution_count": 0,
      "outputs": []
    },
    {
      "cell_type": "code",
      "metadata": {
        "id": "XMkFLFXGFwpU",
        "colab_type": "code",
        "colab": {}
      },
      "source": [
        "y_3=macro_df_3['Sales(In ThousandDollars)']\n",
        "mean_3=y_3.mean()\n",
        "std_3=y_3.std()\n",
        "y_3=preprocessing.scale(y_1)\n",
        "x_3=macro_df_3\n",
        "#x_1= preprocessing.normalize(x_1)\n",
        "x_3=preprocessing.scale(x_3)\n",
        "x_3_lstm=[]\n",
        "y_3_lstm=[]\n",
        "for i in range(x_3.shape[0]-5):\n",
        "    #print(i)\n",
        "    x_3_lstm.append(x_3[i:i+5])\n",
        "    y_3_lstm.append(y_3[i+5])\n",
        "x_3_lstm=np.array(x_3_lstm)\n",
        "y_3_lstm=np.array(y_3_lstm)"
      ],
      "execution_count": 0,
      "outputs": []
    },
    {
      "cell_type": "code",
      "metadata": {
        "id": "9SiOWgDIFyGa",
        "colab_type": "code",
        "colab": {}
      },
      "source": [
        "x_train, x_test, y_train, y_test = train_test_split(x_3_lstm,y_3_lstm,test_size=0.2)\n",
        "\n",
        "\n",
        "lr_3=Sequential()\n",
        "lr_3.add(LSTM(1,input_shape=(5, 14),return_sequences=True))\n",
        "lr_3.add(LSTM(1,return_sequences=False))\n",
        "#lr_1.add(Dense(y_train.shape[0]))\n",
        "lr_3.compile(loss='mean_squared_error', optimizer='adam',metrics=['accuracy'])\n",
        "z=lr_3.fit(x_train,y_train, nb_epoch=80, batch_size=1, verbose=2,validation_data=(x_test, y_test))"
      ],
      "execution_count": 0,
      "outputs": []
    },
    {
      "cell_type": "code",
      "metadata": {
        "id": "hLy2h7WAFz82",
        "colab_type": "code",
        "colab": {}
      },
      "source": [
        "plt.plot(z.history['loss'])\n",
        "plt.plot(z.history['val_loss'])\n",
        "plt.show()\n",
        "result=(lr_2.predict(x_test))\n",
        "plt.scatter(range(y_test.shape[0]),result,c='r')\n",
        "plt.scatter(range(y_test.shape[0]),y_test,c='y')\n",
        "plt.show()"
      ],
      "execution_count": 0,
      "outputs": []
    },
    {
      "cell_type": "code",
      "metadata": {
        "id": "raUhWIeAF1fp",
        "colab_type": "code",
        "colab": {}
      },
      "source": [
        "\n",
        "testdata=pd.read_csv('Test_Kaggle.csv')\n",
        "\n",
        "testdata.head()"
      ],
      "execution_count": 0,
      "outputs": []
    },
    {
      "cell_type": "code",
      "metadata": {
        "id": "7DM-xJ5uF2xd",
        "colab_type": "code",
        "colab": {}
      },
      "source": [
        "macro_rest=macro_rest.reset_index(drop=True)[:12]"
      ],
      "execution_count": 0,
      "outputs": []
    },
    {
      "cell_type": "code",
      "metadata": {
        "id": "BDOf2HZMGHQG",
        "colab_type": "code",
        "colab": {}
      },
      "source": [
        "macro_rest['Month']=[1,2,3,4,5,6,7,8,9,10,11,12]\n",
        "macro_rest['Year']=2015\n",
        "\n",
        "macro_rest"
      ],
      "execution_count": 0,
      "outputs": []
    },
    {
      "cell_type": "code",
      "metadata": {
        "id": "xB4hmCP1GKrW",
        "colab_type": "code",
        "colab": {}
      },
      "source": [
        "macro_rest['Sales(In ThousandDollars)']=macro_rest['Sales(In ThousandDollars)'].fillna(0)\n",
        "#macro_rest=preprocessing.scale(macro_rest)\n",
        "#macro_df_1[67:67+5]=preprocessing.scale(macro_df_1[67:67+5])\n",
        "macro_rest_1_lstm=pd.concat([macro_df_1[67:67+5],macro_rest])\n",
        "macro_rest_2_lstm=pd.concat([macro_df_2[67:67+5],macro_rest])\n",
        "macro_rest_3_lstm=pd.concat([macro_df_3[67:67+5],macro_rest])"
      ],
      "execution_count": 0,
      "outputs": []
    },
    {
      "cell_type": "code",
      "metadata": {
        "id": "3qe2nIa7GMmR",
        "colab_type": "code",
        "colab": {}
      },
      "source": [
        "macro_rest_1_lstm=macro_rest_1_lstm.reset_index(drop=True)\n",
        "macro_rest_2_lstm=macro_rest_2_lstm.reset_index(drop=True)\n",
        "macro_rest_3_lstm=macro_rest_3_lstm.reset_index(drop=True)"
      ],
      "execution_count": 0,
      "outputs": []
    },
    {
      "cell_type": "code",
      "metadata": {
        "id": "7-Rk29T3GOis",
        "colab_type": "code",
        "colab": {}
      },
      "source": [
        "lr_1.predict(preprocessing.scale(macro_rest_1_lstm[0:5]).reshape(1,5,14))"
      ],
      "execution_count": 0,
      "outputs": []
    },
    {
      "cell_type": "code",
      "metadata": {
        "id": "-dSHkSLYGQ22",
        "colab_type": "code",
        "colab": {}
      },
      "source": [
        "pred1=[]\n",
        "pred2=[]\n",
        "pred3=[]\n",
        "for i in range(macro_rest_1_lstm.shape[0]-4):\n",
        "    p=lr_1.predict(preprocessing.scale(macro_rest_1_lstm[i:i+5]).reshape(1,5,14))\n",
        "    pred1.append((p*std_1)+mean_1)\n",
        "    macro_rest_1_lstm['Sales(In ThousandDollars)'][i+5]=pred1[i]\n",
        "    q=lr_2.predict(preprocessing.scale(macro_rest_2_lstm[i:i+5]).reshape(1,5,14))\n",
        "    pred2.append((p*std_2)+mean_2)\n",
        "    macro_rest_2_lstm['Sales(In ThousandDollars)'][i+5]=pred2[i]\n",
        "    r=lr_3.predict(preprocessing.scale(macro_rest_3_lstm[i:i+5]).reshape(1,5,14))\n",
        "    pred3.append((p*std_3)+mean_3)\n",
        "    macro_rest_3_lstm['Sales(In ThousandDollars)'][i+5]=pred3[i]"
      ],
      "execution_count": 0,
      "outputs": []
    },
    {
      "cell_type": "code",
      "metadata": {
        "id": "CdD15D-_GStA",
        "colab_type": "code",
        "colab": {}
      },
      "source": [
        "pred_f=[]\n",
        "for j in range(12):\n",
        "    pred_f.append(pred1[j])\n",
        "    pred_f.append(pred2[j]) \n",
        "    pred_f.append(pred3[j])"
      ],
      "execution_count": 0,
      "outputs": []
    },
    {
      "cell_type": "code",
      "metadata": {
        "id": "kQejjfbjGU4I",
        "colab_type": "code",
        "colab": {}
      },
      "source": [
        "fil=open('subv_svr_macrolstm2.csv','w')\n",
        "fil.write('Year,Sales(In ThousandDollars)\\n')\n",
        "for i in range(len(pred_f)-1):\n",
        "    fil.write('%d,%d\\n'%(i+1,pred_f[i]))\n",
        "    #print('%d,%d\\n'%(i+1,pred_f[i]))\n",
        "fil.write('%d,%d'%(i+2,pred_f[i+1]))\n",
        "fil.close()"
      ],
      "execution_count": 0,
      "outputs": []
    },
    {
      "cell_type": "code",
      "metadata": {
        "id": "Z0hykcOZGWPw",
        "colab_type": "code",
        "colab": {}
      },
      "source": [
        "macro_rest_1_lstm.to_csv('Retail_Sales_predict.csv')"
      ],
      "execution_count": 0,
      "outputs": []
    }
  ]
}